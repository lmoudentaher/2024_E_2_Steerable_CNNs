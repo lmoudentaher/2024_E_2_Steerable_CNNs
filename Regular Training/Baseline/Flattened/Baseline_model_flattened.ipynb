{
  "cells": [
    {
      "cell_type": "code",
      "source": [
        "import zipfile\n",
        "import os\n",
        "\n",
        "# Replace 'your_file.zip' with the name of your uploaded zip file\n",
        "zip_file_name = \"/content/e2cnn-master.zip\"\n",
        "\n",
        "# Specify the directory where you want to extract the contents\n",
        "extract_dir = \"/content/\"\n",
        "\n",
        "# Create the directory if it doesn't exist\n",
        "os.makedirs(extract_dir, exist_ok=True)\n",
        "\n",
        "# Extract the zip file\n",
        "with zipfile.ZipFile(zip_file_name, 'r') as zip_ref:\n",
        "    zip_ref.extractall(extract_dir)\n",
        "\n",
        "print(f\"Contents extracted to {extract_dir}\")\n"
      ],
      "metadata": {
        "colab": {
          "base_uri": "https://localhost:8080/"
        },
        "id": "AcPqq5YWxN_a",
        "outputId": "1a6ec487-09d3-4a48-b271-12962fe37a15"
      },
      "execution_count": 31,
      "outputs": [
        {
          "output_type": "stream",
          "name": "stdout",
          "text": [
            "Contents extracted to /content/\n"
          ]
        }
      ]
    },
    {
      "cell_type": "code",
      "source": [
        "import os\n",
        "\n",
        "\n",
        "# Changer le répertoire actuel\n",
        "os.chdir('/content/e2cnn-master')\n",
        "\n",
        "# Vérifier le répertoire actuel\n",
        "print(\"Répertoire actuel :\", os.getcwd())\n"
      ],
      "metadata": {
        "colab": {
          "base_uri": "https://localhost:8080/"
        },
        "id": "FqqtyW0B0s1Y",
        "outputId": "55777b3c-93d8-4afc-9952-e2ce0653e90f"
      },
      "execution_count": 32,
      "outputs": [
        {
          "output_type": "stream",
          "name": "stdout",
          "text": [
            "Répertoire actuel : /content/e2cnn-master\n"
          ]
        }
      ]
    },
    {
      "cell_type": "markdown",
      "metadata": {
        "collapsed": true,
        "id": "BLUZNUc1xADS"
      },
      "source": [
        "# General E(2)-Equivariant Steerable CNNs  -  A concrete example\n"
      ]
    },
    {
      "cell_type": "code",
      "execution_count": 33,
      "metadata": {
        "id": "0UllWhFexADU"
      },
      "outputs": [],
      "source": [
        "import torch\n",
        "\n",
        "from e2cnn import gspaces\n",
        "from e2cnn import nn"
      ]
    },
    {
      "cell_type": "markdown",
      "metadata": {
        "id": "1OlgTw1rxADV"
      },
      "source": [
        "Finally, we build a **Steerable CNN** and try it MNIST.\n",
        "\n",
        "Let's also use a group a bit larger: we now build a model equivariant to $8$ rotations.\n",
        "We indicate the group of $N$ discrete rotations as $C_N$, i.e. the **cyclic group** of order $N$.\n",
        "In this case, we will use $C_8$.\n",
        "\n",
        "Because the inputs are still gray-scale images, the input type of the model is again a *scalar field*.\n",
        "\n",
        "However, internally we use *regular fields*: this is equivalent to a *group-equivariant convolutional neural network*.\n",
        "\n",
        "Finally, we build *invariant* features for the final classification task by pooling over the group using *Group Pooling*.\n",
        "\n",
        "The final classification is performed by a two fully connected layers."
      ]
    },
    {
      "cell_type": "markdown",
      "metadata": {
        "id": "yE929vNbxADW"
      },
      "source": [
        "# The model\n",
        "\n",
        "Here is the definition of our model:"
      ]
    },
    {
      "cell_type": "code",
      "execution_count": 34,
      "metadata": {
        "id": "aT1l8HSgxADW"
      },
      "outputs": [],
      "source": [
        "import torch\n",
        "import torch.nn as nn\n",
        "\n",
        "class NormalCNN(nn.Module):\n",
        "    def __init__(self, n_classes=10):\n",
        "        super(NormalCNN, self).__init__()\n",
        "        self.conv1 = nn.Sequential(\n",
        "            nn.Conv2d(1, 24, kernel_size=7, padding=1, bias=False),\n",
        "            nn.BatchNorm2d(24),\n",
        "            nn.ReLU(inplace=True),\n",
        "        )\n",
        "        self.conv2 = nn.Sequential(\n",
        "            nn.Conv2d(24, 48, kernel_size=5, padding=2, bias=False),\n",
        "            nn.BatchNorm2d(48),\n",
        "            nn.ReLU(inplace=True),\n",
        "            nn.AvgPool2d(kernel_size=2, stride=2)\n",
        "        )\n",
        "        self.conv3 = nn.Sequential(\n",
        "            nn.Conv2d(48, 48, kernel_size=5, padding=2, bias=False),\n",
        "            nn.BatchNorm2d(48),\n",
        "            nn.ReLU(inplace=True),\n",
        "        )\n",
        "        self.conv4 = nn.Sequential(\n",
        "            nn.Conv2d(48, 96, kernel_size=5, padding=2, bias=False),\n",
        "            nn.BatchNorm2d(96),\n",
        "            nn.ReLU(inplace=True),\n",
        "            nn.AvgPool2d(kernel_size=2, stride=2)\n",
        "        )\n",
        "        self.conv5 = nn.Sequential(\n",
        "            nn.Conv2d(96, 96, kernel_size=5, padding=2, bias=False),\n",
        "            nn.BatchNorm2d(96),\n",
        "            nn.ReLU(inplace=True),\n",
        "        )\n",
        "        self.conv6 = nn.Sequential(\n",
        "            nn.Conv2d(96, 64, kernel_size=5, padding=1, bias=False),\n",
        "            nn.BatchNorm2d(64),\n",
        "            nn.ReLU(inplace=True),\n",
        "            nn.AvgPool2d(kernel_size=1, stride=1)\n",
        "        )\n",
        "\n",
        "        # Dynamically calculate flattened size\n",
        "        dummy_input = torch.zeros(1, 1, 28, 28)  # Adjust input size if needed\n",
        "        dummy_output = self.conv6(self.conv5(self.conv4(self.conv3(self.conv2(self.conv1(dummy_input))))))\n",
        "        flattened_size = dummy_output.numel()\n",
        "\n",
        "        self.fc = nn.Sequential(\n",
        "            nn.Flatten(),\n",
        "            nn.Linear(flattened_size, 64),\n",
        "            nn.BatchNorm1d(64),\n",
        "            nn.ELU(inplace=True),\n",
        "            nn.Linear(64, n_classes),\n",
        "        )\n",
        "\n",
        "    def forward(self, x):\n",
        "        x = self.conv1(x)\n",
        "        x = self.conv2(x)\n",
        "        x = self.conv3(x)\n",
        "        x = self.conv4(x)\n",
        "        x = self.conv5(x)\n",
        "        x = self.conv6(x)\n",
        "        x = self.fc(x)\n",
        "        return x\n"
      ]
    },
    {
      "cell_type": "markdown",
      "metadata": {
        "id": "7cvZVi62xADW"
      },
      "source": [
        "Let's try the model on *rotated* MNIST"
      ]
    },
    {
      "cell_type": "code",
      "execution_count": 35,
      "metadata": {
        "id": "v2yOYDTgxADW",
        "colab": {
          "base_uri": "https://localhost:8080/"
        },
        "outputId": "b937a710-cb29-4369-e1a4-ff0fd7f5fc90"
      },
      "outputs": [
        {
          "output_type": "stream",
          "name": "stdout",
          "text": [
            "Input image shape after transform: torch.Size([64, 1, 29, 29])\n"
          ]
        }
      ],
      "source": [
        "# Step 1: Import necessary modules\n",
        "import torch\n",
        "from rotated_mnist import flattened_rotMNIST\n",
        "\n",
        "# Step 2: Set parameters for the new dataset\n",
        "num_tasks = 8  # Number of rotation tasks\n",
        "per_task_rotation = 45  # Degrees of rotation per task\n",
        "batch_size = 64  # Batch size for training/testing\n",
        "\n",
        "# Step 3: Load the rotated MNIST dataset\n",
        "train_loader, test_loader = flattened_rotMNIST(\n",
        "    num_tasks=num_tasks,\n",
        "    per_task_rotation=per_task_rotation,\n",
        "    batch_size=batch_size\n",
        ")\n",
        "\n",
        "for images, labels, angles in train_loader:\n",
        "    print(f\"Input image shape after transform: {images.shape}\")  # Should be [batch_size, 1, 29, 29]\n",
        "    break\n"
      ]
    },
    {
      "cell_type": "code",
      "execution_count": 36,
      "metadata": {
        "id": "bfQdxQa5xADX"
      },
      "outputs": [],
      "source": [
        "from torch.utils.data import Dataset\n",
        "from torchvision.transforms import RandomRotation\n",
        "from torchvision.transforms import Pad\n",
        "from torchvision.transforms import Resize\n",
        "from torchvision.transforms import ToTensor\n",
        "from torchvision.transforms import Compose\n",
        "\n",
        "import numpy as np\n",
        "\n",
        "from PIL import Image\n",
        "\n",
        "device = 'cuda' if torch.cuda.is_available() else 'cpu'\n"
      ]
    },
    {
      "cell_type": "markdown",
      "metadata": {
        "id": "Tp027s2axADX"
      },
      "source": [
        "Build the dataset"
      ]
    },
    {
      "cell_type": "code",
      "execution_count": 37,
      "metadata": {
        "id": "2bwUWP55xADX"
      },
      "outputs": [],
      "source": [
        "class MnistRotDataset(Dataset):\n",
        "\n",
        "    def __init__(self, mode, transform=None):\n",
        "        assert mode in ['train', 'test']\n",
        "\n",
        "        if mode == \"train\":\n",
        "            file = \"mnist_rotation_new/mnist_all_rotation_normalized_float_train_valid.amat\"\n",
        "        else:\n",
        "            file = \"mnist_rotation_new/mnist_all_rotation_normalized_float_test.amat\"\n",
        "\n",
        "        self.transform = transform\n",
        "\n",
        "        data = np.loadtxt(file, delimiter=' ')\n",
        "\n",
        "        self.images = data[:, :-1].reshape(-1, 28, 28).astype(np.float32)\n",
        "        self.labels = data[:, -1].astype(np.int64)\n",
        "        self.num_samples = len(self.labels)\n",
        "\n",
        "    def __getitem__(self, index):\n",
        "        image, label = self.images[index], self.labels[index]\n",
        "        image = Image.fromarray(image)\n",
        "        if self.transform is not None:\n",
        "            image = self.transform(image)\n",
        "        return image, label\n",
        "\n",
        "    def __len__(self):\n",
        "        return len(self.labels)\n",
        "\n",
        "# images are padded to have shape 29x29.\n",
        "# this allows to use odd-size filters with stride 2 when downsampling a feature map in the model\n",
        "pad = Pad((0, 0, 1, 1), fill=0)\n",
        "\n",
        "# to reduce interpolation artifacts (e.g. when testing the model on rotated images),\n",
        "# we upsample an image by a factor of 3, rotate it and finally downsample it again\n",
        "resize1 = Resize(87)\n",
        "resize2 = Resize(29)\n",
        "\n",
        "totensor = ToTensor()"
      ]
    },
    {
      "cell_type": "markdown",
      "metadata": {
        "id": "3V7y7Y7PxADY"
      },
      "source": [
        "Let's build the model"
      ]
    },
    {
      "cell_type": "code",
      "execution_count": 38,
      "metadata": {
        "id": "n_2aTGcrxADY"
      },
      "outputs": [],
      "source": [
        "model = NormalCNN().to(device)"
      ]
    },
    {
      "cell_type": "markdown",
      "metadata": {
        "id": "CgY_kvapxADY"
      },
      "source": [
        "The model is now randomly initialized.\n",
        "Therefore, we do not expect it to produce the right class probabilities.\n",
        "\n",
        "However, the model should still produce the same output for rotated versions of the same image.\n",
        "This is true for rotations by multiples of $\\frac{\\pi}{2}$, but is only approximate for rotations by $\\frac{\\pi}{4}$.\n",
        "\n",
        "Let's test it on a random test image:\n",
        "we feed eight rotated versions of the first image in the test set and print the output logits of the model for each of them."
      ]
    },
    {
      "cell_type": "code",
      "execution_count": 39,
      "metadata": {
        "id": "Aj4uO72RxADY"
      },
      "outputs": [],
      "source": [
        "\n",
        "def test_model(model: torch.nn.Module, x: Image):\n",
        "    # evaluate the `model` on 8 rotated versions of the input image `x`\n",
        "    model.eval()\n",
        "\n",
        "    wrmup = model(torch.randn(1, 1, 29, 29).to(device))\n",
        "    del wrmup\n",
        "\n",
        "    x = resize1(pad(x))\n",
        "\n",
        "    print()\n",
        "    print('##########################################################################################')\n",
        "    header = 'angle |  ' + '  '.join([\"{:6d}\".format(d) for d in range(10)])\n",
        "    print(header)\n",
        "    with torch.no_grad():\n",
        "        for r in range(8):\n",
        "            x_transformed = totensor(resize2(x.rotate(r*45., Image.BILINEAR))).reshape(1, 1, 29, 29)\n",
        "            x_transformed = x_transformed.to(device)\n",
        "\n",
        "            y = model(x_transformed)\n",
        "            y = y.to('cpu').numpy().squeeze()\n",
        "\n",
        "            angle = r * 45\n",
        "            print(\"{:5d} : {}\".format(angle, y))\n",
        "    print('##########################################################################################')\n",
        "    print()\n",
        "\n"
      ]
    },
    {
      "cell_type": "code",
      "execution_count": 39,
      "metadata": {
        "id": "dsPbTf7OxADY"
      },
      "outputs": [],
      "source": []
    },
    {
      "cell_type": "code",
      "execution_count": 39,
      "metadata": {
        "id": "CQTXgSa0xADY"
      },
      "outputs": [],
      "source": []
    },
    {
      "cell_type": "markdown",
      "metadata": {
        "id": "EfuBMCFPxADY"
      },
      "source": [
        "The output of the model is already almost invariant.\n",
        "However, we still observe small fluctuations in the outputs.\n",
        "\n",
        "This is because the model contains some operations which might break equivariance.\n",
        "For instance, every convolution includes a padding of $2$ pixels per side. This is adds information about the actual orientation of the grid where the image/feature map is sampled because the padding is not rotated with the image.\n",
        "\n",
        "During training, the model will observe rotated patterns and will learn to ignore the noise coming from the padding."
      ]
    },
    {
      "cell_type": "markdown",
      "metadata": {
        "id": "6WxgqeXhxADY"
      },
      "source": [
        "So, let's train the model now.\n",
        "The model is exactly the same used to train a normal *PyTorch* architecture:"
      ]
    },
    {
      "cell_type": "code",
      "execution_count": 40,
      "metadata": {
        "id": "Vm3B3UAcxADY"
      },
      "outputs": [],
      "source": [
        "loss_function = torch.nn.CrossEntropyLoss()\n",
        "optimizer = torch.optim.Adam(model.parameters(), lr=5e-5, weight_decay=1e-5)"
      ]
    },
    {
      "cell_type": "code",
      "execution_count": 41,
      "metadata": {
        "id": "Bmr1gRl6xADY",
        "colab": {
          "base_uri": "https://localhost:8080/"
        },
        "outputId": "f8ea2fb0-5618-47c5-fe7d-8a319ff6fc28"
      },
      "outputs": [
        {
          "output_type": "stream",
          "name": "stdout",
          "text": [
            "Epoch 0 | Test Accuracy: 92.24%\n",
            "Epoch 1 | Test Accuracy: 94.38%\n",
            "Epoch 2 | Test Accuracy: 95.02%\n",
            "Epoch 3 | Test Accuracy: 95.59%\n",
            "Epoch 4 | Test Accuracy: 96.05%\n",
            "Epoch 5 | Test Accuracy: 95.76%\n",
            "Epoch 6 | Test Accuracy: 95.90%\n",
            "Epoch 7 | Test Accuracy: 96.16%\n",
            "Epoch 8 | Test Accuracy: 96.27%\n",
            "Epoch 9 | Test Accuracy: 96.39%\n",
            "Epoch 10 | Test Accuracy: 96.38%\n"
          ]
        }
      ],
      "source": [
        "import csv\n",
        "\n",
        "# Création ou ouverture d'un fichier CSV\n",
        "csv_file = \"accuracy_log.csv\"\n",
        "with open(csv_file, mode=\"w\", newline=\"\") as file:\n",
        "    writer = csv.writer(file)\n",
        "    writer.writerow([\"Epoch\", \"Test Accuracy\"])  # En-tête du fichier\n",
        "\n",
        "# Entraînement du modèle\n",
        "for epoch in range(11):\n",
        "    model.train()\n",
        "    for i, (x, t, _) in enumerate(train_loader):\n",
        "\n",
        "        optimizer.zero_grad()\n",
        "\n",
        "        x = x.to(device)\n",
        "        t = t.to(device)\n",
        "\n",
        "        y = model(x)\n",
        "\n",
        "        loss = loss_function(y, t)\n",
        "\n",
        "        loss.backward()\n",
        "\n",
        "        optimizer.step()\n",
        "\n",
        "    total = 0\n",
        "    correct = 0\n",
        "    with torch.no_grad():\n",
        "        model.eval()\n",
        "        for i, (x, t, _) in enumerate(test_loader):\n",
        "            x = x.to(device)\n",
        "            t = t.to(device)\n",
        "\n",
        "            y = model(x)\n",
        "\n",
        "            _, prediction = torch.max(y.data, 1)\n",
        "            total += t.shape[0]\n",
        "            correct += (prediction == t).sum().item()\n",
        "\n",
        "    # Calcul de l'accuracy\n",
        "    test_accuracy = correct / total * 100.0\n",
        "    print(f\"Epoch {epoch} | Test Accuracy: {test_accuracy:.2f}%\")\n",
        "\n",
        "    # Ajout des résultats au fichier CSV\n",
        "    with open(csv_file, mode=\"a\", newline=\"\") as file:\n",
        "        writer = csv.writer(file)\n",
        "        writer.writerow([epoch, test_accuracy])"
      ]
    },
    {
      "cell_type": "code",
      "source": [
        "import matplotlib.pyplot as plt\n",
        "import numpy as np\n",
        "\n",
        "# Function to display a batch of images\n",
        "def show_images_from_loader(loader, classes, num_images=8):\n",
        "    \"\"\"\n",
        "    Displays a batch of images from the given DataLoader.\n",
        "\n",
        "    Args:\n",
        "    - loader: The DataLoader to pull images from (e.g., test_loader).\n",
        "    - classes: A list of class names corresponding to the dataset labels.\n",
        "    - num_images: The number of images to display (default is 8).\n",
        "    \"\"\"\n",
        "    # Get a single batch from the loader\n",
        "    data_iter = iter(loader)\n",
        "    images, labels, _ = next(data_iter)\n",
        "\n",
        "    # Limit to the specified number of images\n",
        "    images = images[:num_images]\n",
        "    labels = labels[:num_images]\n",
        "\n",
        "    # Convert from torch tensors to numpy for visualization\n",
        "    images = images.numpy()\n",
        "\n",
        "    # Create a figure\n",
        "    fig, axes = plt.subplots(1, num_images, figsize=(15, 5))\n",
        "\n",
        "    for i in range(num_images):\n",
        "        ax = axes[i]\n",
        "        img = np.transpose(images[i], (1, 2, 0))  # Convert from (C, H, W) to (H, W, C)\n",
        "        ax.imshow(img)\n",
        "        ax.axis(\"off\")\n",
        "        ax.set_title(classes[labels[i]])\n",
        "\n",
        "    plt.tight_layout()\n",
        "    plt.show()\n",
        "\n",
        "# Example usage\n",
        "# Assuming you have a DataLoader named `test_loader` and a `classes` list\n",
        "# For example: classes = ['cat', 'dog', 'bird', ...] based on your dataset\n",
        "classes = ['0', '1', '2', '3', '4', '5', '6', '7', '8', '9']  # Replace with your actual class names\n",
        "show_images_from_loader(test_loader, classes)\n"
      ],
      "metadata": {
        "id": "7dboU8EvDD1p",
        "colab": {
          "base_uri": "https://localhost:8080/",
          "height": 139
        },
        "outputId": "0d29ab05-d70d-4aa6-b28f-0d10243fc00b"
      },
      "execution_count": 42,
      "outputs": [
        {
          "output_type": "display_data",
          "data": {
            "text/plain": [
              "<Figure size 1500x500 with 8 Axes>"
            ],
            "image/png": "[encoded data removed]"
          },
          "metadata": {}
        }
      ]
    }
  ],
  "metadata": {
    "kernelspec": {
      "display_name": "Python 3",
      "name": "python3"
    },
    "language_info": {
      "codemirror_mode": {
        "name": "ipython",
        "version": 3
      },
      "file_extension": ".py",
      "mimetype": "text/x-python",
      "name": "python",
      "nbconvert_exporter": "python",
      "pygments_lexer": "ipython3",
      "version": "3.7.3"
    },
    "colab": {
      "provenance": [],
      "gpuType": "T4"
    },
    "accelerator": "GPU"
  },
  "nbformat": 4,
  "nbformat_minor": 0
}