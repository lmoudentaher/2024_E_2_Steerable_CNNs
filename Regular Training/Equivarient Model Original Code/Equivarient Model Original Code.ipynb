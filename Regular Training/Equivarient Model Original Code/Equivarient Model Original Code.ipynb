{
  "cells": [
    {
      "cell_type": "markdown",
      "metadata": {
        "collapsed": true,
        "id": "f5lje4m-ye_4"
      },
      "source": [
        "# General E(2)-Equivariant Steerable CNNs  -  A concrete example\n"
      ]
    },
    {
      "cell_type": "code",
      "source": [
        "import zipfile\n",
        "import os\n",
        "\n",
        "# Chemin du fichier ZIP\n",
        "zip_path = '/content/e2cnn-master.zip'\n",
        "\n",
        "# Dossier où extraire les fichiers\n",
        "extract_to = '/content/'\n",
        "\n",
        "# Vérifier si le fichier est un ZIP valide\n",
        "if zipfile.is_zipfile(zip_path):\n",
        "    with zipfile.ZipFile(zip_path, 'r') as zip_ref:\n",
        "        # Extraire tout le contenu\n",
        "        zip_ref.extractall(extract_to)\n",
        "        print(f\"Fichiers extraits dans {extract_to}\")\n",
        "else:\n",
        "    print(\"Le fichier fourni n'est pas un fichier ZIP valide.\")\n"
      ],
      "metadata": {
        "colab": {
          "base_uri": "https://localhost:8080/"
        },
        "id": "O4FiPUsayinJ",
        "outputId": "446db4c1-6084-40ad-afac-de48b44f2674"
      },
      "execution_count": null,
      "outputs": [
        {
          "output_type": "stream",
          "name": "stdout",
          "text": [
            "Fichiers extraits dans /content/\n"
          ]
        }
      ]
    },
    {
      "cell_type": "code",
      "source": [
        "import os\n",
        "\n",
        "# Chemin du répertoire interne\n",
        "internal_path = '/content/e2cnn-master'\n",
        "\n",
        "# Créer le répertoire s'il n'existe pas déjà\n",
        "if not os.path.exists(internal_path):\n",
        "    os.makedirs(internal_path)\n",
        "\n",
        "# Changer le répertoire de travail\n",
        "os.chdir(internal_path)\n",
        "\n",
        "# Vérifier le nouveau répertoire courant\n",
        "print(\"Répertoire courant :\", os.getcwd())\n"
      ],
      "metadata": {
        "colab": {
          "base_uri": "https://localhost:8080/"
        },
        "id": "y0r5sRCtzpfP",
        "outputId": "8eb1e0ee-4e01-42a5-c382-8f3db7a7307a"
      },
      "execution_count": null,
      "outputs": [
        {
          "output_type": "stream",
          "name": "stdout",
          "text": [
            "Répertoire courant : /content/e2cnn-master\n"
          ]
        }
      ]
    },
    {
      "cell_type": "code",
      "execution_count": null,
      "metadata": {
        "id": "XW2etul1ye_9"
      },
      "outputs": [],
      "source": [
        "import torch\n",
        "\n",
        "from e2cnn import gspaces\n",
        "from e2cnn import nn"
      ]
    },
    {
      "cell_type": "markdown",
      "metadata": {
        "id": "4KgqRmHgye_-"
      },
      "source": [
        "Finally, we build a **Steerable CNN** and try it MNIST.\n",
        "\n",
        "Let's also use a group a bit larger: we now build a model equivariant to $8$ rotations.\n",
        "We indicate the group of $N$ discrete rotations as $C_N$, i.e. the **cyclic group** of order $N$.\n",
        "In this case, we will use $C_8$.\n",
        "\n",
        "Because the inputs are still gray-scale images, the input type of the model is again a *scalar field*.\n",
        "\n",
        "However, internally we use *regular fields*: this is equivalent to a *group-equivariant convolutional neural network*.\n",
        "\n",
        "Finally, we build *invariant* features for the final classification task by pooling over the group using *Group Pooling*.\n",
        "\n",
        "The final classification is performed by a two fully connected layers."
      ]
    },
    {
      "cell_type": "markdown",
      "metadata": {
        "id": "oxOEHxqTye__"
      },
      "source": [
        "# The model\n",
        "\n",
        "Here is the definition of our model:"
      ]
    },
    {
      "cell_type": "code",
      "execution_count": null,
      "metadata": {
        "id": "ZwfZQpv8ye__"
      },
      "outputs": [],
      "source": [
        "class C8SteerableCNN(torch.nn.Module):\n",
        "\n",
        "    def __init__(self, n_classes=10):\n",
        "\n",
        "        super(C8SteerableCNN, self).__init__()\n",
        "\n",
        "        # the model is equivariant under rotations by 45 degrees, modelled by C8\n",
        "        self.r2_act = gspaces.Rot2dOnR2(N=8)\n",
        "\n",
        "        # the input image is a scalar field, corresponding to the trivial representation\n",
        "        in_type = nn.FieldType(self.r2_act, [self.r2_act.trivial_repr])\n",
        "\n",
        "        # we store the input type for wrapping the images into a geometric tensor during the forward pass\n",
        "        self.input_type = in_type\n",
        "\n",
        "        # convolution 1\n",
        "        # first specify the output type of the convolutional layer\n",
        "        # we choose 24 feature fields, each transforming under the regular representation of C8\n",
        "        out_type = nn.FieldType(self.r2_act, 24*[self.r2_act.regular_repr])\n",
        "        self.block1 = nn.SequentialModule(\n",
        "            nn.MaskModule(in_type, 29, margin=1),\n",
        "            nn.R2Conv(in_type, out_type, kernel_size=7, padding=1, bias=False),\n",
        "            nn.InnerBatchNorm(out_type),\n",
        "            nn.ReLU(out_type, inplace=True)\n",
        "        )\n",
        "\n",
        "        # convolution 2\n",
        "        # the old output type is the input type to the next layer\n",
        "        in_type = self.block1.out_type\n",
        "        # the output type of the second convolution layer are 48 regular feature fields of C8\n",
        "        out_type = nn.FieldType(self.r2_act, 48*[self.r2_act.regular_repr])\n",
        "        self.block2 = nn.SequentialModule(\n",
        "            nn.R2Conv(in_type, out_type, kernel_size=5, padding=2, bias=False),\n",
        "            nn.InnerBatchNorm(out_type),\n",
        "            nn.ReLU(out_type, inplace=True)\n",
        "        )\n",
        "        self.pool1 = nn.SequentialModule(\n",
        "            nn.PointwiseAvgPoolAntialiased(out_type, sigma=0.66, stride=2)\n",
        "        )\n",
        "\n",
        "        # convolution 3\n",
        "        # the old output type is the input type to the next layer\n",
        "        in_type = self.block2.out_type\n",
        "        # the output type of the third convolution layer are 48 regular feature fields of C8\n",
        "        out_type = nn.FieldType(self.r2_act, 48*[self.r2_act.regular_repr])\n",
        "        self.block3 = nn.SequentialModule(\n",
        "            nn.R2Conv(in_type, out_type, kernel_size=5, padding=2, bias=False),\n",
        "            nn.InnerBatchNorm(out_type),\n",
        "            nn.ReLU(out_type, inplace=True)\n",
        "        )\n",
        "\n",
        "        # convolution 4\n",
        "        # the old output type is the input type to the next layer\n",
        "        in_type = self.block3.out_type\n",
        "        # the output type of the fourth convolution layer are 96 regular feature fields of C8\n",
        "        out_type = nn.FieldType(self.r2_act, 96*[self.r2_act.regular_repr])\n",
        "        self.block4 = nn.SequentialModule(\n",
        "            nn.R2Conv(in_type, out_type, kernel_size=5, padding=2, bias=False),\n",
        "            nn.InnerBatchNorm(out_type),\n",
        "            nn.ReLU(out_type, inplace=True)\n",
        "        )\n",
        "        self.pool2 = nn.SequentialModule(\n",
        "            nn.PointwiseAvgPoolAntialiased(out_type, sigma=0.66, stride=2)\n",
        "        )\n",
        "\n",
        "        # convolution 5\n",
        "        # the old output type is the input type to the next layer\n",
        "        in_type = self.block4.out_type\n",
        "        # the output type of the fifth convolution layer are 96 regular feature fields of C8\n",
        "        out_type = nn.FieldType(self.r2_act, 96*[self.r2_act.regular_repr])\n",
        "        self.block5 = nn.SequentialModule(\n",
        "            nn.R2Conv(in_type, out_type, kernel_size=5, padding=2, bias=False),\n",
        "            nn.InnerBatchNorm(out_type),\n",
        "            nn.ReLU(out_type, inplace=True)\n",
        "        )\n",
        "\n",
        "        # convolution 6\n",
        "        # the old output type is the input type to the next layer\n",
        "        in_type = self.block5.out_type\n",
        "        # the output type of the sixth convolution layer are 64 regular feature fields of C8\n",
        "        out_type = nn.FieldType(self.r2_act, 64*[self.r2_act.regular_repr])\n",
        "        self.block6 = nn.SequentialModule(\n",
        "            nn.R2Conv(in_type, out_type, kernel_size=5, padding=1, bias=False),\n",
        "            nn.InnerBatchNorm(out_type),\n",
        "            nn.ReLU(out_type, inplace=True)\n",
        "        )\n",
        "        self.pool3 = nn.PointwiseAvgPoolAntialiased(out_type, sigma=0.66, stride=1, padding=0)\n",
        "\n",
        "        self.gpool = nn.GroupPooling(out_type)\n",
        "\n",
        "        # number of output channels\n",
        "        c = self.gpool.out_type.size\n",
        "\n",
        "        # Fully Connected\n",
        "        self.fully_net = torch.nn.Sequential(\n",
        "            torch.nn.Linear(c, 64),\n",
        "            torch.nn.BatchNorm1d(64),\n",
        "            torch.nn.ELU(inplace=True),\n",
        "            torch.nn.Linear(64, n_classes),\n",
        "        )\n",
        "\n",
        "    def forward(self, input: torch.Tensor):\n",
        "        # wrap the input tensor in a GeometricTensor\n",
        "        # (associate it with the input type)\n",
        "        x = nn.GeometricTensor(input, self.input_type)\n",
        "\n",
        "        # apply each equivariant block\n",
        "\n",
        "        # Each layer has an input and an output type\n",
        "        # A layer takes a GeometricTensor in input.\n",
        "        # This tensor needs to be associated with the same representation of the layer's input type\n",
        "        #\n",
        "        # The Layer outputs a new GeometricTensor, associated with the layer's output type.\n",
        "        # As a result, consecutive layers need to have matching input/output types\n",
        "        x = self.block1(x)\n",
        "        x = self.block2(x)\n",
        "        x = self.pool1(x)\n",
        "\n",
        "        x = self.block3(x)\n",
        "        x = self.block4(x)\n",
        "        x = self.pool2(x)\n",
        "\n",
        "        x = self.block5(x)\n",
        "        x = self.block6(x)\n",
        "\n",
        "        # pool over the spatial dimensions\n",
        "        x = self.pool3(x)\n",
        "\n",
        "        # pool over the group\n",
        "        x = self.gpool(x)\n",
        "\n",
        "        # unwrap the output GeometricTensor\n",
        "        # (take the Pytorch tensor and discard the associated representation)\n",
        "        x = x.tensor\n",
        "\n",
        "        # classify with the final fully connected layers)\n",
        "        x = self.fully_net(x.reshape(x.shape[0], -1))\n",
        "\n",
        "        return x"
      ]
    },
    {
      "cell_type": "markdown",
      "metadata": {
        "id": "X_06ehozyfAA"
      },
      "source": [
        "Let's try the model on *rotated* MNIST"
      ]
    },
    {
      "cell_type": "code",
      "execution_count": null,
      "metadata": {
        "colab": {
          "base_uri": "https://localhost:8080/"
        },
        "id": "78NUueJfyfAB",
        "outputId": "ea0c2d13-6b72-4aa7-c60d-0d99f7414b82"
      },
      "outputs": [
        {
          "output_type": "stream",
          "name": "stdout",
          "text": [
            "File ‘mnist_rotation_new.zip’ already there; not retrieving.\n",
            "\n",
            "Archive:  mnist_rotation_new.zip\n"
          ]
        }
      ],
      "source": [
        "# download the dataset\n",
        "!wget -nc http://www.iro.umontreal.ca/~lisa/icml2007data/mnist_rotation_new.zip\n",
        "# uncompress the zip file\n",
        "!unzip -n mnist_rotation_new.zip -d mnist_rotation_new"
      ]
    },
    {
      "cell_type": "code",
      "execution_count": null,
      "metadata": {
        "id": "SXI9Pf0xyfAC"
      },
      "outputs": [],
      "source": [
        "from torch.utils.data import Dataset\n",
        "from torchvision.transforms import RandomRotation\n",
        "from torchvision.transforms import Pad\n",
        "from torchvision.transforms import Resize\n",
        "from torchvision.transforms import ToTensor\n",
        "from torchvision.transforms import Compose\n",
        "\n",
        "import numpy as np\n",
        "\n",
        "from PIL import Image\n",
        "\n",
        "device = 'cuda' if torch.cuda.is_available() else 'cpu'\n"
      ]
    },
    {
      "cell_type": "markdown",
      "metadata": {
        "id": "PqO7zdetyfAC"
      },
      "source": [
        "Build the dataset"
      ]
    },
    {
      "cell_type": "code",
      "execution_count": null,
      "metadata": {
        "id": "PeAxFDqfyfAD"
      },
      "outputs": [],
      "source": [
        "class MnistRotDataset(Dataset):\n",
        "\n",
        "    def __init__(self, mode, transform=None):\n",
        "        assert mode in ['train', 'test']\n",
        "\n",
        "        if mode == \"train\":\n",
        "            file = \"mnist_rotation_new/mnist_all_rotation_normalized_float_train_valid.amat\"\n",
        "        else:\n",
        "            file = \"mnist_rotation_new/mnist_all_rotation_normalized_float_test.amat\"\n",
        "\n",
        "        self.transform = transform\n",
        "\n",
        "        data = np.loadtxt(file, delimiter=' ')\n",
        "\n",
        "        self.images = data[:, :-1].reshape(-1, 28, 28).astype(np.float32)\n",
        "        self.labels = data[:, -1].astype(np.int64)\n",
        "        self.num_samples = len(self.labels)\n",
        "\n",
        "    def __getitem__(self, index):\n",
        "        image, label = self.images[index], self.labels[index]\n",
        "        image = Image.fromarray(image)\n",
        "        if self.transform is not None:\n",
        "            image = self.transform(image)\n",
        "        return image, label\n",
        "\n",
        "    def __len__(self):\n",
        "        return len(self.labels)\n",
        "\n",
        "# images are padded to have shape 29x29.\n",
        "# this allows to use odd-size filters with stride 2 when downsampling a feature map in the model\n",
        "pad = Pad((0, 0, 1, 1), fill=0)\n",
        "\n",
        "# to reduce interpolation artifacts (e.g. when testing the model on rotated images),\n",
        "# we upsample an image by a factor of 3, rotate it and finally downsample it again\n",
        "resize1 = Resize(87)\n",
        "resize2 = Resize(29)\n",
        "\n",
        "totensor = ToTensor()"
      ]
    },
    {
      "cell_type": "markdown",
      "metadata": {
        "id": "JTQcQKLvyfAD"
      },
      "source": [
        "Let's build the model"
      ]
    },
    {
      "cell_type": "code",
      "execution_count": null,
      "metadata": {
        "id": "SB0qmhX8yfAD"
      },
      "outputs": [],
      "source": [
        "model = C8SteerableCNN().to(device)"
      ]
    },
    {
      "cell_type": "markdown",
      "metadata": {
        "id": "ibWBTw_lyfAE"
      },
      "source": [
        "The model is now randomly initialized.\n",
        "Therefore, we do not expect it to produce the right class probabilities.\n",
        "\n",
        "However, the model should still produce the same output for rotated versions of the same image.\n",
        "This is true for rotations by multiples of $\\frac{\\pi}{2}$, but is only approximate for rotations by $\\frac{\\pi}{4}$.\n",
        "\n",
        "Let's test it on a random test image:\n",
        "we feed eight rotated versions of the first image in the test set and print the output logits of the model for each of them."
      ]
    },
    {
      "cell_type": "code",
      "execution_count": null,
      "metadata": {
        "id": "0ikFKiyWyfAE"
      },
      "outputs": [],
      "source": [
        "\n",
        "def test_model(model: torch.nn.Module, x: Image):\n",
        "    # evaluate the `model` on 8 rotated versions of the input image `x`\n",
        "    model.eval()\n",
        "\n",
        "    wrmup = model(torch.randn(1, 1, 29, 29).to(device))\n",
        "    del wrmup\n",
        "\n",
        "    x = resize1(pad(x))\n",
        "\n",
        "    print()\n",
        "    print('##########################################################################################')\n",
        "    header = 'angle |  ' + '  '.join([\"{:6d}\".format(d) for d in range(10)])\n",
        "    print(header)\n",
        "    with torch.no_grad():\n",
        "        for r in range(8):\n",
        "            x_transformed = totensor(resize2(x.rotate(r*45., Image.BILINEAR))).reshape(1, 1, 29, 29)\n",
        "            x_transformed = x_transformed.to(device)\n",
        "\n",
        "            y = model(x_transformed)\n",
        "            y = y.to('cpu').numpy().squeeze()\n",
        "\n",
        "            angle = r * 45\n",
        "            print(\"{:5d} : {}\".format(angle, y))\n",
        "    print('##########################################################################################')\n",
        "    print()\n",
        "\n"
      ]
    },
    {
      "cell_type": "code",
      "execution_count": null,
      "metadata": {
        "id": "AG4VIyfXyfAE"
      },
      "outputs": [],
      "source": [
        "# build the test set\n",
        "raw_mnist_test = MnistRotDataset(mode='test')"
      ]
    },
    {
      "cell_type": "code",
      "execution_count": null,
      "metadata": {
        "colab": {
          "base_uri": "https://localhost:8080/"
        },
        "id": "0L8xfwxgyfAE",
        "outputId": "fffc44a4-0d01-4ca1-efe4-8eafa57a37fc"
      },
      "outputs": [
        {
          "output_type": "stream",
          "name": "stdout",
          "text": [
            "\n",
            "##########################################################################################\n",
            "angle |       0       1       2       3       4       5       6       7       8       9\n",
            "    0 : [-0.2918  0.4869 -0.3093  0.4641  0.1835 -0.3956  0.1159 -0.0383 -0.2958  0.2991]\n",
            "   45 : [-0.2963  0.4686 -0.3196  0.4396  0.1851 -0.3737  0.1208 -0.0083 -0.3102  0.2901]\n",
            "   90 : [-0.2918  0.4869 -0.3093  0.4641  0.1835 -0.3956  0.116  -0.0383 -0.2958  0.2991]\n",
            "  135 : [-0.2963  0.4686 -0.3196  0.4396  0.185  -0.3737  0.1208 -0.0082 -0.3102  0.2901]\n",
            "  180 : [-0.2918  0.4869 -0.3093  0.4641  0.1835 -0.3956  0.1159 -0.0383 -0.2958  0.2991]\n",
            "  225 : [-0.2963  0.4686 -0.3196  0.4396  0.185  -0.3737  0.1208 -0.0082 -0.3102  0.2901]\n",
            "  270 : [-0.2918  0.4869 -0.3093  0.4641  0.1835 -0.3956  0.116  -0.0383 -0.2958  0.2991]\n",
            "  315 : [-0.2963  0.4686 -0.3196  0.4396  0.1851 -0.3737  0.1208 -0.0082 -0.3102  0.2901]\n",
            "##########################################################################################\n",
            "\n"
          ]
        }
      ],
      "source": [
        "# retrieve the first image from the test set\n",
        "x, y = next(iter(raw_mnist_test))\n",
        "\n",
        "# evaluate the model\n",
        "test_model(model, x)"
      ]
    },
    {
      "cell_type": "markdown",
      "metadata": {
        "id": "x79dYl7ayfAF"
      },
      "source": [
        "The output of the model is already almost invariant.\n",
        "However, we still observe small fluctuations in the outputs.\n",
        "\n",
        "This is because the model contains some operations which might break equivariance.\n",
        "For instance, every convolution includes a padding of $2$ pixels per side. This is adds information about the actual orientation of the grid where the image/feature map is sampled because the padding is not rotated with the image.\n",
        "\n",
        "During training, the model will observe rotated patterns and will learn to ignore the noise coming from the padding."
      ]
    },
    {
      "cell_type": "markdown",
      "metadata": {
        "id": "iCdLSlElyfAF"
      },
      "source": [
        "So, let's train the model now.\n",
        "The model is exactly the same used to train a normal *PyTorch* architecture:"
      ]
    },
    {
      "cell_type": "code",
      "execution_count": null,
      "metadata": {
        "id": "wWh8IFy1yfAF"
      },
      "outputs": [],
      "source": [
        "train_transform = Compose([\n",
        "    pad,\n",
        "    resize1,\n",
        "    RandomRotation(180, interpolation=Image.BILINEAR, expand=False),\n",
        "    resize2,\n",
        "    totensor,\n",
        "])\n",
        "\n",
        "mnist_train = MnistRotDataset(mode='train', transform=train_transform)\n",
        "train_loader = torch.utils.data.DataLoader(mnist_train, batch_size=64)\n",
        "\n",
        "\n",
        "test_transform = Compose([\n",
        "    pad,\n",
        "    totensor,\n",
        "])\n",
        "mnist_test = MnistRotDataset(mode='test', transform=test_transform)\n",
        "test_loader = torch.utils.data.DataLoader(mnist_test, batch_size=64)\n",
        "\n",
        "loss_function = torch.nn.CrossEntropyLoss()\n",
        "optimizer = torch.optim.Adam(model.parameters(), lr=5e-5, weight_decay=1e-5)"
      ]
    },
    {
      "cell_type": "code",
      "execution_count": null,
      "metadata": {
        "colab": {
          "base_uri": "https://localhost:8080/"
        },
        "id": "PauNDkOeyfAF",
        "outputId": "d800337a-1efe-42cb-bb9f-770c0f6f41ae"
      },
      "outputs": [
        {
          "output_type": "stream",
          "name": "stdout",
          "text": [
            "Epoch 0 | Test Accuracy: 92.34%\n",
            "Epoch 1 | Test Accuracy: 94.17%\n",
            "Epoch 2 | Test Accuracy: 95.11%\n",
            "Epoch 3 | Test Accuracy: 95.02%\n",
            "Epoch 4 | Test Accuracy: 95.58%\n",
            "Epoch 5 | Test Accuracy: 95.95%\n",
            "Epoch 6 | Test Accuracy: 96.21%\n",
            "Epoch 7 | Test Accuracy: 96.47%\n",
            "Epoch 8 | Test Accuracy: 96.99%\n",
            "Epoch 9 | Test Accuracy: 96.90%\n",
            "Epoch 10 | Test Accuracy: 97.30%\n",
            "Epoch 11 | Test Accuracy: 97.32%\n",
            "Epoch 12 | Test Accuracy: 97.33%\n",
            "Epoch 13 | Test Accuracy: 97.40%\n",
            "Epoch 14 | Test Accuracy: 97.53%\n",
            "Epoch 15 | Test Accuracy: 97.69%\n",
            "Epoch 16 | Test Accuracy: 97.68%\n",
            "Epoch 17 | Test Accuracy: 97.66%\n",
            "Epoch 18 | Test Accuracy: 97.63%\n",
            "Epoch 19 | Test Accuracy: 97.49%\n",
            "Epoch 20 | Test Accuracy: 97.55%\n",
            "Epoch 21 | Test Accuracy: 97.37%\n",
            "Epoch 22 | Test Accuracy: 97.32%\n",
            "Epoch 23 | Test Accuracy: 97.24%\n",
            "Epoch 24 | Test Accuracy: 97.41%\n",
            "Epoch 25 | Test Accuracy: 97.20%\n",
            "Epoch 26 | Test Accuracy: 96.48%\n",
            "Epoch 27 | Test Accuracy: 97.35%\n",
            "Epoch 28 | Test Accuracy: 97.36%\n",
            "Epoch 29 | Test Accuracy: 97.50%\n",
            "Epoch 30 | Test Accuracy: 97.06%\n"
          ]
        }
      ],
      "source": [
        "import csv\n",
        "\n",
        "# Création ou ouverture d'un fichier CSV\n",
        "csv_file = \"accuracy_log.csv\"\n",
        "with open(csv_file, mode=\"w\", newline=\"\") as file:\n",
        "    writer = csv.writer(file)\n",
        "    writer.writerow([\"Epoch\", \"Test Accuracy\"])  # En-tête du fichier\n",
        "\n",
        "# Entraînement du modèle\n",
        "for epoch in range(31):\n",
        "    model.train()\n",
        "    for i, (x, t) in enumerate(train_loader):\n",
        "\n",
        "        optimizer.zero_grad()\n",
        "\n",
        "        x = x.to(device)\n",
        "        t = t.to(device)\n",
        "\n",
        "        y = model(x)\n",
        "\n",
        "        loss = loss_function(y, t)\n",
        "\n",
        "        loss.backward()\n",
        "\n",
        "        optimizer.step()\n",
        "\n",
        "    total = 0\n",
        "    correct = 0\n",
        "    with torch.no_grad():\n",
        "        model.eval()\n",
        "        for i, (x, t) in enumerate(test_loader):\n",
        "            x = x.to(device)\n",
        "            t = t.to(device)\n",
        "\n",
        "            y = model(x)\n",
        "\n",
        "            _, prediction = torch.max(y.data, 1)\n",
        "            total += t.shape[0]\n",
        "            correct += (prediction == t).sum().item()\n",
        "\n",
        "    # Calcul de l'accuracy\n",
        "    test_accuracy = correct / total * 100.0\n",
        "    print(f\"Epoch {epoch} | Test Accuracy: {test_accuracy:.2f}%\")\n",
        "\n",
        "    # Ajout des résultats au fichier CSV\n",
        "    with open(csv_file, mode=\"a\", newline=\"\") as file:\n",
        "        writer = csv.writer(file)\n",
        "        writer.writerow([epoch, test_accuracy])\n"
      ]
    },
    {
      "cell_type": "code",
      "source": [
        "import matplotlib.pyplot as plt\n",
        "\n",
        "# Nom du fichier CSV\n",
        "csv_file = \"accuracy_log.csv\"\n",
        "\n",
        "# Listes pour stocker les données\n",
        "epochs = []\n",
        "test_accuracies = []\n",
        "\n",
        "# Lecture des données du fichier CSV\n",
        "with open(csv_file, mode=\"r\") as file:\n",
        "    reader = csv.reader(file)\n",
        "    next(reader)  # Ignorer l'en-tête\n",
        "    for row in reader:\n",
        "        epochs.append(int(row[0]))  # Convertir l'époque en entier\n",
        "        test_accuracies.append(float(row[1]))  # Convertir l'accuracy en float\n",
        "\n",
        "# Tracé des données\n",
        "plt.figure(figsize=(8, 5))\n",
        "plt.plot(epochs, test_accuracies, marker=\"o\", linestyle=\"-\", color=\"b\", label=\"Test Accuracy\")\n",
        "plt.title(\"Test Accuracy vs Epochs\")\n",
        "plt.xlabel(\"Epochs\")\n",
        "plt.ylabel(\"Test Accuracy (%)\")\n",
        "plt.grid(True)\n",
        "plt.legend()\n",
        "plt.tight_layout()\n",
        "plt.show()\n"
      ],
      "metadata": {
        "colab": {
          "base_uri": "https://localhost:8080/",
          "height": 507
        },
        "id": "unZDqKH9G2-0",
        "outputId": "2af46d8f-60f9-4a42-bd2b-e931693287a4"
      },
      "execution_count": null,
      "outputs": [
        {
          "output_type": "display_data",
          "data": {
            "text/plain": [
              "<Figure size 800x500 with 1 Axes>"
            ],
            "image/png": "[encoded data removed]"
          },
          "metadata": {}
        }
      ]
    },
    {
      "cell_type": "code",
      "execution_count": null,
      "metadata": {
        "colab": {
          "base_uri": "https://localhost:8080/"
        },
        "id": "YO64CVozyfAG",
        "outputId": "e94273f5-e130-4095-fa04-9817d4ac573e"
      },
      "outputs": [
        {
          "output_type": "stream",
          "name": "stdout",
          "text": [
            "\n",
            "##########################################################################################\n",
            "angle |       0       1       2       3       4       5       6       7       8       9\n",
            "    0 : [-1.1767 -2.1905 -2.812  -0.8725 -2.043  -0.9892  9.7561 -0.8943 -2.1182 -1.7179]\n",
            "   45 : [-1.4477 -2.7855 -2.6477 -1.3687 -2.2215 -1.2833  9.5301 -0.2551 -1.9389 -1.022 ]\n",
            "   90 : [-1.1759 -2.1906 -2.8123 -0.8724 -2.042  -0.989   9.755  -0.8943 -2.1185 -1.7179]\n",
            "  135 : [-1.4476 -2.7854 -2.6484 -1.3693 -2.2216 -1.2828  9.5296 -0.2531 -1.9384 -1.0223]\n",
            "  180 : [-1.1765 -2.1906 -2.8124 -0.8722 -2.0431 -0.9899  9.7559 -0.8943 -2.1181 -1.7178]\n",
            "  225 : [-1.4465 -2.785  -2.6478 -1.3692 -2.2222 -1.2819  9.5286 -0.2531 -1.9387 -1.0227]\n",
            "  270 : [-1.1762 -2.1902 -2.8125 -0.8719 -2.0429 -0.9894  9.7554 -0.894  -2.1178 -1.7177]\n",
            "  315 : [-1.4474 -2.7871 -2.647  -1.3698 -2.2207 -1.2828  9.5305 -0.2537 -1.9397 -1.0232]\n",
            "##########################################################################################\n",
            "\n"
          ]
        }
      ],
      "source": [
        "\n",
        "# retrieve the first image from the test set\n",
        "x, y = next(iter(raw_mnist_test))\n",
        "\n",
        "\n",
        "# evaluate the model\n",
        "test_model(model, x)"
      ]
    }
  ],
  "metadata": {
    "kernelspec": {
      "display_name": "Python 3",
      "name": "python3"
    },
    "language_info": {
      "codemirror_mode": {
        "name": "ipython",
        "version": 3
      },
      "file_extension": ".py",
      "mimetype": "text/x-python",
      "name": "python",
      "nbconvert_exporter": "python",
      "pygments_lexer": "ipython3",
      "version": "3.7.3"
    },
    "colab": {
      "provenance": [],
      "gpuType": "T4"
    },
    "accelerator": "GPU"
  },
  "nbformat": 4,
  "nbformat_minor": 0
}